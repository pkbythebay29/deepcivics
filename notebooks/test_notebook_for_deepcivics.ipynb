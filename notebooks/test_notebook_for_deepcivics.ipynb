{
 "cells": [
  {
   "cell_type": "markdown",
   "metadata": {},
   "source": [
    "# ✅ INSTALL all dependencies (safe for Binder/Colab/local)"
   ]
  },
  {
   "cell_type": "code",
   "execution_count": null,
   "metadata": {},
   "outputs": [],
   "source": [
    "\n",
    "!pip install -q deepcivics pandas matplotlib transformers sentencepiece pyyaml torch"
   ]
  },
  {
   "cell_type": "markdown",
   "metadata": {},
   "source": [
    "# --- IMPORT ---"
   ]
  },
  {
   "cell_type": "code",
   "execution_count": null,
   "metadata": {},
   "outputs": [],
   "source": [
    "\n",
    "from deepcivics import generate_config_from_url, load_config, ingestion, CivicLLM, visualization"
   ]
  },
  {
   "cell_type": "markdown",
   "metadata": {},
   "source": [
    "# --- Step 1: Generate config from a known public CSV (For example World Bank Digital Finance Data) ---"
   ]
  },
  {
   "cell_type": "code",
   "execution_count": null,
   "metadata": {},
   "outputs": [],
   "source": [
    "\n",
    "generate_config_from_url(\n",
    "    csv_url=\"\",\n",
    "    country=\"\"\n",
    ")"
   ]
  },
  {
   "cell_type": "markdown",
   "metadata": {},
   "source": [
    "# --- Step 2: Load config and preview data ---"
   ]
  },
  {
   "cell_type": "code",
   "execution_count": null,
   "metadata": {},
   "outputs": [],
   "source": [
    "\n",
    "cfg = load_config()\n",
    "df = ingestion.fetch_csv(cfg[\"source\"])\n",
    "print(\"Sample of the dataset:\")\n",
    "display(df.head())"
   ]
  },
  {
   "cell_type": "markdown",
   "metadata": {},
   "source": [
    "# --- Step 3: Ask a Civic Question via LLM ---"
   ]
  },
  {
   "cell_type": "code",
   "execution_count": null,
   "metadata": {},
   "outputs": [],
   "source": [
    "llm = CivicLLM(cfg[\"model\"])\n",
    "context = df.to_csv(index=False)[:cfg[\"truncate_context\"]]"
   ]
  },
  {
   "cell_type": "code",
   "execution_count": null,
   "metadata": {},
   "outputs": [],
   "source": [
    "question = \"This is my question\"\n",
    "print(f\" Asking: {question}\")\n",
    "answer = llm.ask(question, context)\n",
    "print(\" Answer:\", answer)"
   ]
  },
  {
   "cell_type": "markdown",
   "metadata": {},
   "source": [
    "# --- Step 4: Visualize ---"
   ]
  },
  {
   "cell_type": "code",
   "execution_count": null,
   "metadata": {},
   "outputs": [],
   "source": [
    "\n",
    "if cfg.get(\"columns_of_interest\"):\n",
    "    visualization.plot_bar_count(\n",
    "        df,\n",
    "        cfg[\"columns_of_interest\"][0],\n",
    "        title=\"📊 Digital Finance Usage – Africa\"\n",
    "    )\n",
    "else:\n",
    "    print(\"⚠️ No visualization column specified in config.\")"
   ]
  }
 ],
 "metadata": {
  "kernelspec": {
   "display_name": "Python (Deep Civics)",
   "language": "python",
   "name": "pypi-pkg"
  },
  "language_info": {
   "codemirror_mode": {
    "name": "ipython",
    "version": 3
   },
   "file_extension": ".py",
   "mimetype": "text/x-python",
   "name": "python",
   "nbconvert_exporter": "python",
   "pygments_lexer": "ipython3",
   "version": "3.7.6"
  }
 },
 "nbformat": 4,
 "nbformat_minor": 4
}
