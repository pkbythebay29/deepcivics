# 💳 Deep Civics – Digital Financial Inclusion in Africa
# Real dataset from the World Bank

!pip install -q pandas matplotlib transformers pyyaml

from deepcivics import generate_config_from_url

generate_config_from_url(
    csv_url="https://databankfiles.worldbank.org/public/ddpext_download/ICT/Series/FS.DSR.DIGS.ZS.csv",
    country="South Africa"
)



from deepcivics.config import load_config
from deepcivics import ingestion, CivicLLM, visualization

cfg = load_config()
df = ingestion.fetch_csv(cfg["source"])
df.head()


llm = CivicLLM(cfg["model"])
context = df.to_csv(index=False)[:cfg["truncate_context"]]

question = "Which African countries have shown the biggest increase in digital financial access?"
answer = llm.ask(question, context)
print("🌍 LLM Answer:", answer)


visualization.plot_bar_count(
    df,
    cfg["columns_of_interest"][0],
    title="Digital Financial Service Usage – Africa (World Bank)"
)

