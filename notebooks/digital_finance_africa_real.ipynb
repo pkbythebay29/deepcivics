{
 "cells": [
  {
   "cell_type": "markdown",
   "metadata": {},
   "source": [
    "# 💳 Deep Civics – Digital Financial Inclusion in Africa\n",
    "\n",
    "# Real dataset from the World Bank"
   ]
  },
  {
   "cell_type": "code",
   "execution_count": 4,
   "metadata": {},
   "outputs": [],
   "source": [
    "!pip install -q pandas matplotlib transformers pyyaml "
   ]
  },
  {
   "cell_type": "code",
   "execution_count": 5,
   "metadata": {},
   "outputs": [
    {
     "name": "stdout",
     "output_type": "stream",
     "text": [
      "Note: you may need to restart the kernel to use updated packages.\n"
     ]
    },
    {
     "name": "stderr",
     "output_type": "stream",
     "text": [
      "ERROR: Could not find a version that satisfies the requirement deepcivics (from versions: none)\n",
      "ERROR: No matching distribution found for deepcivics\n"
     ]
    }
   ],
   "source": [
    "pip install deepcivics"
   ]
  },
  {
   "cell_type": "code",
   "execution_count": 3,
   "metadata": {},
   "outputs": [
    {
     "name": "stderr",
     "output_type": "stream",
     "text": [
      "ERROR: Could not find a version that satisfies the requirement deepcivics (from versions: none)\n",
      "ERROR: No matching distribution found for deepcivics\n"
     ]
    },
    {
     "ename": "ModuleNotFoundError",
     "evalue": "No module named 'deepcivics'",
     "output_type": "error",
     "traceback": [
      "\u001b[1;31m---------------------------------------------------------------------------\u001b[0m",
      "\u001b[1;31mModuleNotFoundError\u001b[0m                       Traceback (most recent call last)",
      "\u001b[1;32m<ipython-input-3-13489691cc24>\u001b[0m in \u001b[0;36m<module>\u001b[1;34m\u001b[0m\n\u001b[0;32m      1\u001b[0m \u001b[0mget_ipython\u001b[0m\u001b[1;33m(\u001b[0m\u001b[1;33m)\u001b[0m\u001b[1;33m.\u001b[0m\u001b[0msystem\u001b[0m\u001b[1;33m(\u001b[0m\u001b[1;34m'pip install -q pandas matplotlib transformers pyyaml deepcivics'\u001b[0m\u001b[1;33m)\u001b[0m\u001b[1;33m\u001b[0m\u001b[1;33m\u001b[0m\u001b[0m\n\u001b[0;32m      2\u001b[0m \u001b[1;33m\u001b[0m\u001b[0m\n\u001b[1;32m----> 3\u001b[1;33m \u001b[1;32mfrom\u001b[0m \u001b[0mdeepcivics\u001b[0m \u001b[1;32mimport\u001b[0m \u001b[0mgenerate_config_from_url\u001b[0m\u001b[1;33m\u001b[0m\u001b[1;33m\u001b[0m\u001b[0m\n\u001b[0m\u001b[0;32m      4\u001b[0m \u001b[1;33m\u001b[0m\u001b[0m\n\u001b[0;32m      5\u001b[0m generate_config_from_url(\n",
      "\u001b[1;31mModuleNotFoundError\u001b[0m: No module named 'deepcivics'"
     ]
    }
   ],
   "source": [
    "from deepcivics import generate_config_from_url\n",
    "\n",
    "generate_config_from_url(\n",
    "    csv_url=\"https://databankfiles.worldbank.org/public/ddpext_download/ICT/Series/FS.DSR.DIGS.ZS.csv\",\n",
    "    country=\"South Africa\"\n",
    ")\n"
   ]
  },
  {
   "cell_type": "code",
   "execution_count": null,
   "metadata": {},
   "outputs": [],
   "source": [
    "from deepcivics.config import load_config\n",
    "from deepcivics import ingestion, CivicLLM, visualization\n",
    "\n",
    "cfg = load_config()\n",
    "df = ingestion.fetch_csv(cfg[\"source\"])\n",
    "df.head()"
   ]
  },
  {
   "cell_type": "code",
   "execution_count": null,
   "metadata": {},
   "outputs": [],
   "source": [
    "llm = CivicLLM(cfg[\"model\"])\n",
    "context = df.to_csv(index=False)[:cfg[\"truncate_context\"]]\n",
    "\n",
    "question = \"Which African countries have shown the biggest increase in digital financial access?\"\n",
    "answer = llm.ask(question, context)\n",
    "print(\"🌍 LLM Answer:\", answer)"
   ]
  },
  {
   "cell_type": "code",
   "execution_count": null,
   "metadata": {},
   "outputs": [],
   "source": [
    "visualization.plot_bar_count(\n",
    "    df,\n",
    "    cfg[\"columns_of_interest\"][0],\n",
    "    title=\"Digital Financial Service Usage – Africa (World Bank)\"\n",
    ")"
   ]
  }
 ],
 "metadata": {
  "kernelspec": {
   "display_name": "Python 3",
   "language": "python",
   "name": "python3"
  },
  "language_info": {
   "codemirror_mode": {
    "name": "ipython",
    "version": 3
   },
   "file_extension": ".py",
   "mimetype": "text/x-python",
   "name": "python",
   "nbconvert_exporter": "python",
   "pygments_lexer": "ipython3",
   "version": "3.7.6"
  }
 },
 "nbformat": 4,
 "nbformat_minor": 4
}
